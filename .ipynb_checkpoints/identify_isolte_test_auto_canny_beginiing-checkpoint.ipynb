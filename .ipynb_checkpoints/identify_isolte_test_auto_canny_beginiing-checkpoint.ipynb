{
 "cells": [
  {
   "cell_type": "markdown",
   "metadata": {},
   "source": [
    "#### Preliminaries - import main libraries"
   ]
  },
  {
   "cell_type": "code",
   "execution_count": 1,
   "metadata": {
    "collapsed": false
   },
   "outputs": [],
   "source": [
    "import numpy as np\n",
    "import scipy as sp\n",
    "\n",
    "import matplotlib.pyplot as plt\n",
    "from scipy import ndimage as ndi\n",
    "\n",
    "from skimage import feature\n",
    "from skimage import color, io, exposure, feature\n",
    "from skimage import transform as tf\n",
    "from skimage.morphology import disk, diamond, square, opening, dilation, erosion, closing, convex_hull_image\n",
    "from skimage.morphology import remove_small_objects\n",
    "from skimage.filters import  threshold_adaptive, threshold_otsu\n",
    "\n",
    "from skimage.feature import corner_fast, corner_peaks, corner_orientations\n",
    "from skimage.measure import find_contours, approximate_polygon\n",
    "\n",
    "from image_source_canny import canny\n",
    "from mycarta_im_functions import auto_canny\n",
    "\n",
    "%matplotlib inline"
   ]
  },
  {
   "cell_type": "markdown",
   "metadata": {},
   "source": [
    "#### Import test image"
   ]
  },
  {
   "cell_type": "code",
   "execution_count": null,
   "metadata": {
    "collapsed": false
   },
   "outputs": [],
   "source": [
    "# import from url\n",
    "#url = 'https://github.com/mycarta/rainbowbot/raw/master/test_f3_distorted_tet.ong'\n",
    "#img = np.asarray(io.imread(url))[:,:,:3] # with removing alpha channel\n",
    "img = np.asarray(io.imread('test images new/test_f3_distorted_text.png'))[:,:,:3]"
   ]
  },
  {
   "cell_type": "code",
   "execution_count": null,
   "metadata": {
    "collapsed": false
   },
   "outputs": [],
   "source": [
    "# plot it\n",
    "fig = plt.figure(figsize=(10,10))\n",
    "ax = fig.add_subplot(111)\n",
    "plt.imshow(img,  interpolation = 'none')\n",
    "ax.xaxis.set_ticks([])\n",
    "ax.yaxis.set_ticks([])\n",
    "plt.show()\n",
    "#fig.savefig('input.png', dpi=400, bbox_inches='tight', pad_inches=0) \n"
   ]
  },
  {
   "cell_type": "markdown",
   "metadata": {},
   "source": [
    "#### Preporcessing"
   ]
  },
  {
   "cell_type": "code",
   "execution_count": null,
   "metadata": {
    "collapsed": false
   },
   "outputs": [],
   "source": [
    "# Gray scal conversion and contrast stretching\n",
    "gry = color.rgb2gray(img);\n",
    "p2, p95 = np.percentile(gry, (2, 95))\n",
    "rescale = exposure.rescale_intensity(gry, in_range=(p2, p95))"
   ]
  },
  {
   "cell_type": "code",
   "execution_count": null,
   "metadata": {
    "collapsed": false
   },
   "outputs": [],
   "source": [
    "# plot it\n",
    "fig = plt.figure(figsize=(10,10))\n",
    "ax = fig.add_subplot(111)\n",
    "plt.imshow(rescale,  interpolation = 'none', cmap = 'gray')\n",
    "ax.xaxis.set_ticks([])\n",
    "ax.yaxis.set_ticks([])\n",
    "plt.show()\n",
    "#fig.savefig('input.png', dpi=400, bbox_inches='tight', pad_inches=0) "
   ]
  },
  {
   "cell_type": "markdown",
   "metadata": {
    "collapsed": true
   },
   "source": [
    "#### Canny edge "
   ]
  },
  {
   "cell_type": "code",
   "execution_count": null,
   "metadata": {
    "collapsed": false
   },
   "outputs": [],
   "source": [
    "cn = auto_canny(img)\n",
    "\n",
    "cny_dilated = erosion(dilation(cn, disk(3)), disk (3))"
   ]
  },
  {
   "cell_type": "code",
   "execution_count": null,
   "metadata": {
    "collapsed": false
   },
   "outputs": [],
   "source": [
    "# plot it\n",
    "fig = plt.figure(figsize=(10,10))\n",
    "ax = fig.add_subplot(111)\n",
    "plt.imshow(cny_dilated,  interpolation = 'none', cmap = 'gray')\n",
    "ax.xaxis.set_ticks([])\n",
    "ax.yaxis.set_ticks([])\n",
    "plt.show()\n",
    "#fig.savefig('input.png', dpi=400, bbox_inches='tight', pad_inches=0) "
   ]
  },
  {
   "cell_type": "markdown",
   "metadata": {},
   "source": [
    "#### Get largest element in the binary image"
   ]
  },
  {
   "cell_type": "markdown",
   "metadata": {},
   "source": [
    "Detect largest bright element in the binary image. Making the assumption it would be the map.\n",
    "Eliminate everything else (text, colorbar, holes, etc.)."
   ]
  },
  {
   "cell_type": "code",
   "execution_count": null,
   "metadata": {
    "collapsed": false
   },
   "outputs": [],
   "source": [
    "# Label all white objects (made up of ones)\n",
    "label_objects, nb_labels = ndi.label(binary_global) # ndimage.label actually labels 0 (background) as 0 and then \n",
    "                                                    # labels every nonzero object as 1, 2, ... n. \n",
    "    \n",
    "# Calculate every labeled object's size. \n",
    "# np.bincount ignores whether input is an image or another type of array.\n",
    "# It just calculates the binary sizes, including for the 0 (background).\n",
    "sizes = np.bincount(label_objects.ravel())   \n",
    "\n",
    "sizes[0] = 0    # This sets the size of the background to 0 so that if it happened to be larger than \n",
    "                # the largest white object it would not matter\n",
    "\n",
    "# Keep only largest object\n",
    "binary_objects = remove_small_objects(binary_global, max(sizes)) "
   ]
  },
  {
   "cell_type": "code",
   "execution_count": null,
   "metadata": {
    "collapsed": false
   },
   "outputs": [],
   "source": [
    "# plot \n",
    "fig = plt.figure(figsize=(10,10))\n",
    "ax = fig.add_subplot(111)\n",
    "plt.imshow(binary_objects, cmap='gray',  interpolation = 'none')\n",
    "ax.xaxis.set_ticks([])\n",
    "ax.yaxis.set_ticks([])\n",
    "plt.show()\n",
    "#fig.savefig('onlylargest.png', dpi=400, bbox_inches='tight', pad_inches=0) "
   ]
  },
  {
   "cell_type": "code",
   "execution_count": null,
   "metadata": {
    "collapsed": true
   },
   "outputs": [],
   "source": [
    "# Remove holes from it (black regions inside white object)\n",
    "binary_holes = ndi.morphology.binary_fill_holes(binary_objects) "
   ]
  },
  {
   "cell_type": "code",
   "execution_count": null,
   "metadata": {
    "collapsed": false
   },
   "outputs": [],
   "source": [
    "# plot \n",
    "fig = plt.figure(figsize=(10,10))\n",
    "ax = fig.add_subplot(111)\n",
    "plt.imshow(binary_holes, cmap='gray', interpolation = 'none')\n",
    "ax.xaxis.set_ticks([])\n",
    "ax.yaxis.set_ticks([])\n",
    "plt.show()\n",
    "\n",
    "#fig.savefig('noholes.png', dpi=400, bbox_inches='tight', pad_inches=0) "
   ]
  },
  {
   "cell_type": "code",
   "execution_count": null,
   "metadata": {
    "collapsed": false
   },
   "outputs": [],
   "source": [
    "enhanced = opening(binary_holes, disk(7))"
   ]
  },
  {
   "cell_type": "code",
   "execution_count": null,
   "metadata": {
    "collapsed": false
   },
   "outputs": [],
   "source": [
    "# plot \n",
    "fig = plt.figure(figsize=(10,10))\n",
    "ax = fig.add_subplot(111)\n",
    "plt.imshow(enhanced, cmap='gray', interpolation = 'none')\n",
    "ax.xaxis.set_ticks([])\n",
    "ax.yaxis.set_ticks([])\n",
    "plt.show()\n",
    "\n",
    "#fig.savefig('noholes.png', dpi=400, bbox_inches='tight', pad_inches=0) "
   ]
  },
  {
   "cell_type": "markdown",
   "metadata": {},
   "source": [
    "#### Find contour, approximate it with a quadrilateral, find and sort corners"
   ]
  },
  {
   "cell_type": "code",
   "execution_count": null,
   "metadata": {
    "collapsed": false
   },
   "outputs": [],
   "source": [
    "# test\n",
    "fig = plt.figure(figsize=(10,10))\n",
    "ax = fig.add_subplot(111)\n",
    "plt.imshow(enhanced, cmap='gray', interpolation = 'none')\n",
    "ax.xaxis.set_ticks([])\n",
    "ax.yaxis.set_ticks([])\n",
    "\n",
    "for contour in find_contours(enhanced, 0):\n",
    "    coords = approximate_polygon(contour, tolerance=25)\n",
    "    ax.plot(coords[:, 1], coords[:, 0], '-r', linewidth=2)\n",
    "plt.show()"
   ]
  },
  {
   "cell_type": "code",
   "execution_count": null,
   "metadata": {
    "collapsed": false
   },
   "outputs": [],
   "source": [
    "contour = np.squeeze(find_contours(enhanced, 0))\n",
    "coords = approximate_polygon(contour, tolerance=25)\n",
    "coords"
   ]
  },
  {
   "cell_type": "code",
   "execution_count": null,
   "metadata": {
    "collapsed": false
   },
   "outputs": [],
   "source": [
    "# Function to sort corners based on angle from centroid\n",
    "# modified from: http://stackoverflow.com/a/31235064/1034648\n",
    "def ordered(points):\n",
    "    x = points[:,0]\n",
    "    y = points[:,1]\n",
    "    cx = np.mean(x)\n",
    "    cy = np.mean(y)\n",
    "    a = np.arctan2(y - cy, x - cx)\n",
    "    order = a.ravel().argsort()\n",
    "    x = x[order]\n",
    "    y = y[order]\n",
    "    return np.vstack([x,y])"
   ]
  },
  {
   "cell_type": "code",
   "execution_count": null,
   "metadata": {
    "collapsed": false
   },
   "outputs": [],
   "source": [
    "# sort the corners\n",
    "# except the last one in the contour (repeatition of first point)\n",
    "sortedCoords = ordered(coords[:-1]).T\n",
    "\n",
    "# if we wanted to re-add it, by the way, we would do this\n",
    "#sortedCoords =  np.concatenate([sortedCoords, sortedCoords[:1,:]], axis = 0) \n",
    "sortedCoords"
   ]
  },
  {
   "cell_type": "code",
   "execution_count": null,
   "metadata": {
    "collapsed": false
   },
   "outputs": [],
   "source": [
    "# just making sure points are indeed sorted\n",
    "\n",
    "fig = plt.figure(figsize=(10,10))\n",
    "ax = fig.add_subplot(111)\n",
    "plt.imshow(enhanced, cmap='gray', interpolation = 'none')\n",
    "ax.xaxis.set_ticks([])\n",
    "ax.yaxis.set_ticks([])\n",
    "\n",
    "ax.scatter(sortedCoords[:, 1], sortedCoords[:, 0], s=60, color=['magenta', 'cyan', 'orange', 'green'])\n",
    "plt.show()"
   ]
  },
  {
   "cell_type": "markdown",
   "metadata": {},
   "source": [
    "### Nicely sorted counter-clocwise!!"
   ]
  },
  {
   "cell_type": "markdown",
   "metadata": {},
   "source": [
    "#### Define size of output image based on largest width and height of input, and define destination coordinates for registration"
   ]
  },
  {
   "cell_type": "code",
   "execution_count": null,
   "metadata": {
    "collapsed": false
   },
   "outputs": [],
   "source": [
    "w1 = np.sqrt(((sortedCoords[0, 1]-sortedCoords[3, 1])**2)+((sortedCoords[0, 0]-sortedCoords[3, 0])**2))\n",
    "w2 = np.sqrt(((sortedCoords[1, 1]-sortedCoords[2, 1])**2)+((sortedCoords[1, 0]-sortedCoords[2, 0])**2))\n",
    "\n",
    "h1 = np.sqrt(((sortedCoords[0, 1]-sortedCoords[1, 1])**2)+((sortedCoords[0, 0]-sortedCoords[1, 0])**2))\n",
    "h2 = np.sqrt(((sortedCoords[3, 1]-sortedCoords[2, 1])**2)+((sortedCoords[3, 0]-sortedCoords[2, 0])**2))\n",
    "\n",
    "w = max(int(w1), int(w2))\n",
    "h = max(int(h1), int(h2))\n",
    "\n",
    "print h,w"
   ]
  },
  {
   "cell_type": "code",
   "execution_count": null,
   "metadata": {
    "collapsed": false
   },
   "outputs": [],
   "source": [
    "dst = np.array([\n",
    "        [0, 0],\n",
    "        [h-1, 0],\n",
    "        [h-1, w-1],\n",
    "        [0, w-1]], dtype = 'float32')\n",
    "dst"
   ]
  },
  {
   "cell_type": "code",
   "execution_count": null,
   "metadata": {
    "collapsed": false
   },
   "outputs": [],
   "source": [
    "fig = plt.figure(figsize=(5,5))\n",
    "ax = fig.add_subplot(111)\n",
    "ax.scatter(dst[:, 1], dst[:, 0], s=60, color=['magenta', 'cyan', 'orange', 'green'])\n",
    "plt.axis('equal')\n",
    "plt.gca().invert_yaxis()\n",
    "plt.show()"
   ]
  },
  {
   "cell_type": "markdown",
   "metadata": {
    "collapsed": true
   },
   "source": [
    "#### Rectify image by warping using homologous/corresponding points "
   ]
  },
  {
   "cell_type": "code",
   "execution_count": null,
   "metadata": {
    "collapsed": true
   },
   "outputs": [],
   "source": [
    "dst[:,[0,1]] = dst[:,[1,0]]\n",
    "sortedCoords[:,[0,1]] = sortedCoords[:,[1,0]]"
   ]
  },
  {
   "cell_type": "code",
   "execution_count": null,
   "metadata": {
    "collapsed": false
   },
   "outputs": [],
   "source": [
    "tform = tf.ProjectiveTransform()\n",
    "tform.estimate(dst,sortedCoords)"
   ]
  },
  {
   "cell_type": "code",
   "execution_count": null,
   "metadata": {
    "collapsed": false
   },
   "outputs": [],
   "source": [
    "warped = tf.warp(img, tform, output_shape=(h-1, w-1))\n",
    "\n",
    "fig, ax = plt.subplots(nrows=2, figsize=(20, 10))\n",
    "\n",
    "\n",
    "ax[0].imshow(img, cmap=plt.cm.gray)\n",
    "ax[0].xaxis.set_ticks([])\n",
    "ax[0].yaxis.set_ticks([])\n",
    "ax[0].plot(sortedCoords[:, 0], sortedCoords[:, 1], '.r')\n",
    "\n",
    "ax[1].imshow(warped, cmap=plt.cm.gray)\n",
    "ax[1].xaxis.set_ticks([])\n",
    "ax[1].yaxis.set_ticks([])"
   ]
  }
 ],
 "metadata": {
  "anaconda-cloud": {},
  "kernelspec": {
   "display_name": "Python [default]",
   "language": "python",
   "name": "python2"
  },
  "language_info": {
   "codemirror_mode": {
    "name": "ipython",
    "version": 2
   },
   "file_extension": ".py",
   "mimetype": "text/x-python",
   "name": "python",
   "nbconvert_exporter": "python",
   "pygments_lexer": "ipython2",
   "version": "2.7.12"
  }
 },
 "nbformat": 4,
 "nbformat_minor": 0
}
